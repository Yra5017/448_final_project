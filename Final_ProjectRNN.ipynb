{
  "nbformat": 4,
  "nbformat_minor": 0,
  "metadata": {
    "colab": {
      "provenance": []
    },
    "kernelspec": {
      "name": "python3",
      "display_name": "Python 3"
    },
    "language_info": {
      "name": "python"
    }
  },
  "cells": [
    {
      "cell_type": "markdown",
      "source": [
        "Imports"
      ],
      "metadata": {
        "id": "jx33tePLon_-"
      }
    },
    {
      "cell_type": "code",
      "execution_count": null,
      "metadata": {
        "id": "fo-5btR_oU92",
        "colab": {
          "base_uri": "https://localhost:8080/"
        },
        "outputId": "8b1d9e0a-97e3-4a7e-b4c2-87ef16b6920e"
      },
      "outputs": [
        {
          "output_type": "stream",
          "name": "stdout",
          "text": [
            "Requirement already satisfied: python-chess in /usr/local/lib/python3.10/dist-packages (0.31.4)\n",
            "Requirement already satisfied: gym in /usr/local/lib/python3.10/dist-packages (0.17.3)\n",
            "Requirement already satisfied: scipy in /usr/local/lib/python3.10/dist-packages (from gym) (1.11.4)\n",
            "Requirement already satisfied: numpy>=1.10.4 in /usr/local/lib/python3.10/dist-packages (from gym) (1.23.5)\n",
            "Requirement already satisfied: pyglet<=1.5.0,>=1.4.0 in /usr/local/lib/python3.10/dist-packages (from gym) (1.5.0)\n",
            "Requirement already satisfied: cloudpickle<1.7.0,>=1.2.0 in /usr/local/lib/python3.10/dist-packages (from gym) (1.6.0)\n",
            "Requirement already satisfied: future in /usr/local/lib/python3.10/dist-packages (from pyglet<=1.5.0,>=1.4.0->gym) (0.18.3)\n",
            "Requirement already satisfied: gym-chess in /usr/local/lib/python3.10/dist-packages (0.1.1)\n",
            "Requirement already satisfied: gym<0.18.0,>=0.17.2 in /usr/local/lib/python3.10/dist-packages (from gym-chess) (0.17.3)\n",
            "Requirement already satisfied: python-chess<0.32.0,>=0.31.1 in /usr/local/lib/python3.10/dist-packages (from gym-chess) (0.31.4)\n",
            "Requirement already satisfied: scipy in /usr/local/lib/python3.10/dist-packages (from gym<0.18.0,>=0.17.2->gym-chess) (1.11.4)\n",
            "Requirement already satisfied: numpy>=1.10.4 in /usr/local/lib/python3.10/dist-packages (from gym<0.18.0,>=0.17.2->gym-chess) (1.23.5)\n",
            "Requirement already satisfied: pyglet<=1.5.0,>=1.4.0 in /usr/local/lib/python3.10/dist-packages (from gym<0.18.0,>=0.17.2->gym-chess) (1.5.0)\n",
            "Requirement already satisfied: cloudpickle<1.7.0,>=1.2.0 in /usr/local/lib/python3.10/dist-packages (from gym<0.18.0,>=0.17.2->gym-chess) (1.6.0)\n",
            "Requirement already satisfied: future in /usr/local/lib/python3.10/dist-packages (from pyglet<=1.5.0,>=1.4.0->gym<0.18.0,>=0.17.2->gym-chess) (0.18.3)\n"
          ]
        }
      ],
      "source": [
        "import numpy as np\n",
        "import pandas as pd\n",
        "from sklearn.linear_model import LogisticRegression\n",
        "from sklearn.datasets import load_iris\n",
        "from sklearn.model_selection import train_test_split\n",
        "from sklearn.naive_bayes import MultinomialNB\n",
        "from sklearn.svm import SVC\n",
        "import requests\n",
        "import gzip\n",
        "from io import BytesIO, StringIO\n",
        "from sklearn.ensemble import VotingClassifier\n",
        "from sklearn.metrics import accuracy_score\n",
        "from sklearn.preprocessing import LabelEncoder, StandardScaler\n",
        "from sklearn.model_selection import GridSearchCV,RandomizedSearchCV\n",
        "from sklearn.metrics import confusion_matrix,classification_report,ConfusionMatrixDisplay\n",
        "from sklearn.metrics import precision_recall_fscore_support\n",
        "import tensorflow as tf\n",
        "from tensorflow.keras import layers, models\n",
        "from tensorflow.keras.layers import Dense, ConvLSTM2D, Flatten\n",
        "!pip install python-chess\n",
        "import chess\n",
        "import chess.pgn\n",
        "!pip install gym\n",
        "!pip install gym-chess\n",
        "import gym\n",
        "import os\n",
        "import gym.spaces\n",
        "import gym_chess\n",
        "from gym_chess.alphazero.move_encoding import utils, queenmoves, knightmoves, underpromotions\n",
        "from sklearn.preprocessing import OneHotEncoder"
      ]
    },
    {
      "cell_type": "markdown",
      "source": [
        "*Data* Extracting"
      ],
      "metadata": {
        "id": "U8i61c48omvM"
      }
    },
    {
      "cell_type": "code",
      "source": [
        "import chess.pgn\n",
        "\n",
        "def extract_fen_and_moves(pgn_file_path, num_games_to_read):\n",
        "    with open(pgn_file_path) as pgn_file:\n",
        "        games_list = []\n",
        "        games_read = 0\n",
        "\n",
        "        while games_read < num_games_to_read:\n",
        "            # Read the next line from the PGN file\n",
        "            line = pgn_file.readline()\n",
        "\n",
        "            # Break the loop if the end of the file is reached\n",
        "            if not line:\n",
        "                break\n",
        "\n",
        "            # Check if the line starts a new game\n",
        "            if line.startswith('[Event'):\n",
        "                # Create a new game\n",
        "                game = chess.pgn.read_game(pgn_file)\n",
        "\n",
        "                board = chess.Board()\n",
        "                fen_moves = []\n",
        "\n",
        "                # Process moves in the current game\n",
        "                for move in game.mainline_moves():\n",
        "                    move_uci = move.uci()\n",
        "                    board.push(move)\n",
        "                    fen_moves.append((board.fen(), move_uci))\n",
        "\n",
        "                games_list.append(fen_moves)\n",
        "                games_read += 1\n",
        "\n",
        "    return games_list\n",
        "\n",
        "pgn_file_path = \"/content/2023-11.bare.[19781].pgn\"\n",
        "\n",
        "num_games_to_read = 100\n",
        "\n",
        "games_list = extract_fen_and_moves(pgn_file_path, num_games_to_read)\n",
        "\n",
        "env = gym.make('ChessAlphaZero-v0')\n",
        "env.reset()"
      ],
      "metadata": {
        "id": "5FqLivQ_onOI",
        "colab": {
          "base_uri": "https://localhost:8080/"
        },
        "outputId": "9fb2cad7-0e2f-430f-9a14-84246f997b7a"
      },
      "execution_count": null,
      "outputs": [
        {
          "output_type": "execute_result",
          "data": {
            "text/plain": [
              "array([[[0, 0, 0, ..., 1, 1, 0],\n",
              "        [0, 1, 0, ..., 1, 1, 0],\n",
              "        [0, 0, 1, ..., 1, 1, 0],\n",
              "        ...,\n",
              "        [0, 0, 1, ..., 1, 1, 0],\n",
              "        [0, 1, 0, ..., 1, 1, 0],\n",
              "        [0, 0, 0, ..., 1, 1, 0]],\n",
              "\n",
              "       [[1, 0, 0, ..., 1, 1, 0],\n",
              "        [1, 0, 0, ..., 1, 1, 0],\n",
              "        [1, 0, 0, ..., 1, 1, 0],\n",
              "        ...,\n",
              "        [1, 0, 0, ..., 1, 1, 0],\n",
              "        [1, 0, 0, ..., 1, 1, 0],\n",
              "        [1, 0, 0, ..., 1, 1, 0]],\n",
              "\n",
              "       [[0, 0, 0, ..., 1, 1, 0],\n",
              "        [0, 0, 0, ..., 1, 1, 0],\n",
              "        [0, 0, 0, ..., 1, 1, 0],\n",
              "        ...,\n",
              "        [0, 0, 0, ..., 1, 1, 0],\n",
              "        [0, 0, 0, ..., 1, 1, 0],\n",
              "        [0, 0, 0, ..., 1, 1, 0]],\n",
              "\n",
              "       ...,\n",
              "\n",
              "       [[0, 0, 0, ..., 1, 1, 0],\n",
              "        [0, 0, 0, ..., 1, 1, 0],\n",
              "        [0, 0, 0, ..., 1, 1, 0],\n",
              "        ...,\n",
              "        [0, 0, 0, ..., 1, 1, 0],\n",
              "        [0, 0, 0, ..., 1, 1, 0],\n",
              "        [0, 0, 0, ..., 1, 1, 0]],\n",
              "\n",
              "       [[0, 0, 0, ..., 1, 1, 0],\n",
              "        [0, 0, 0, ..., 1, 1, 0],\n",
              "        [0, 0, 0, ..., 1, 1, 0],\n",
              "        ...,\n",
              "        [0, 0, 0, ..., 1, 1, 0],\n",
              "        [0, 0, 0, ..., 1, 1, 0],\n",
              "        [0, 0, 0, ..., 1, 1, 0]],\n",
              "\n",
              "       [[0, 0, 0, ..., 1, 1, 0],\n",
              "        [0, 0, 0, ..., 1, 1, 0],\n",
              "        [0, 0, 0, ..., 1, 1, 0],\n",
              "        ...,\n",
              "        [0, 0, 0, ..., 1, 1, 0],\n",
              "        [0, 0, 0, ..., 1, 1, 0],\n",
              "        [0, 0, 0, ..., 1, 1, 0]]])"
            ]
          },
          "metadata": {},
          "execution_count": 27
        }
      ]
    },
    {
      "cell_type": "markdown",
      "source": [
        "Data Formating + Separation"
      ],
      "metadata": {
        "id": "JXnwyx5ajXQG"
      }
    },
    {
      "cell_type": "code",
      "source": [
        "\n",
        "def get_piece_square_table(piece_type):\n",
        "    piece_square_tables = {\n",
        "        chess.PAWN: np.array([\n",
        "            [0, 0, 0, 0, 0, 0, 0, 0],\n",
        "            [50, 50, 50, 50, 50, 50, 50, 50],\n",
        "            [10, 10, 20, 30, 30, 20, 10, 10],\n",
        "            [5, 5, 10, 25, 25, 10, 5, 5],\n",
        "            [0, 0, 0, 20, 20, 0, 0, 0],\n",
        "            [5, -5, -10, 0, 0, -10, -5, 5],\n",
        "            [5, 10, 10, -20, -20, 10, 10, 5],\n",
        "            [0, 0, 0, 0, 0, 0, 0, 0]\n",
        "        ]),\n",
        "        chess.KNIGHT: np.array([\n",
        "            [-50, -40, -30, -30, -30, -30, -40, -50],\n",
        "            [-40, -20, 0, 0, 0, 0, -20, -40],\n",
        "            [-30, 0, 10, 15, 15, 10, 0, -30],\n",
        "            [-30, 5, 15, 20, 20, 15, 5, -30],\n",
        "            [-30, 0, 15, 20, 20, 15, 0, -30],\n",
        "            [-30, 5, 10, 15, 15, 10, 5, -30],\n",
        "            [-40, -20, 0, 5, 5, 0, -20, -40],\n",
        "            [-50, -40, -30, -30, -30, -30, -40, -50]\n",
        "        ]),\n",
        "        chess.BISHOP: np.array([\n",
        "            [-20, -10, -10, -10, -10, -10, -10, -20],\n",
        "            [-10, 0, 0, 0, 0, 0, 0, -10],\n",
        "            [-10, 0, 5, 10, 10, 5, 0, -10],\n",
        "            [-10, 5, 5, 10, 10, 5, 5, -10],\n",
        "            [-10, 0, 10, 10, 10, 10, 0, -10],\n",
        "            [-10, 10, 10, 10, 10, 10, 10, -10],\n",
        "            [-10, 5, 0, 0, 0, 0, 5, -10],\n",
        "            [-20, -10, -10, -10, -10, -10, -10, -20]\n",
        "        ]),\n",
        "        chess.ROOK: np.array([\n",
        "            [0, 0, 0, 0, 0, 0, 0, 0],\n",
        "            [5, 10, 10, 10, 10, 10, 10, 5],\n",
        "            [-5, 0, 0, 0, 0, 0, 0, -5],\n",
        "            [-5, 0, 0, 0, 0, 0, 0, -5],\n",
        "            [-5, 0, 0, 0, 0, 0, 0, -5],\n",
        "            [-5, 0, 0, 0, 0, 0, 0, -5],\n",
        "            [-5, 0, 0, 0, 0, 0, 0, -5],\n",
        "            [0, 0, 0, 5, 5, 0, 0, 0]\n",
        "        ]),\n",
        "        chess.QUEEN: np.array([\n",
        "            [-20, -10, -10, -5, -5, -10, -10, -20],\n",
        "            [-10, 0, 0, 0, 0, 0, 0, -10],\n",
        "            [-10, 0, 5, 5, 5, 5, 0, -10],\n",
        "            [-5, 0, 5, 5, 5, 5, 0, -5],\n",
        "            [0, 0, 5, 5, 5, 5, 0, -5],\n",
        "            [-10, 5, 5, 5, 5, 5, 0, -10],\n",
        "            [-10, 0, 5, 0, 0, 0, 0, -10],\n",
        "            [-20, -10, -10, -5, -5, -10, -10, -20]\n",
        "        ]),\n",
        "        chess.KING: np.array([\n",
        "            [-30, -40, -40, -50, -50, -40, -40, -30],\n",
        "            [-30, -40, -40, -50, -50, -40, -40, -30],\n",
        "            [-30, -40, -40, -50, -50, -40, -40, -30],\n",
        "            [-30, -40, -40, -50, -50, -40, -40, -30],\n",
        "            [-20, -30, -30, -40, -40, -30, -30, -20],\n",
        "            [-10, -20, -20, -20, -20, -20, -20, -10],\n",
        "            [20, 20, 0, 0, 0, 0, 20, 20],\n",
        "            [20, 30, 10, 0, 0, 10, 30, 20]\n",
        "        ]),\n",
        "    }\n",
        "\n",
        "    return piece_square_tables.get(piece_type, np.zeros((8, 8), dtype=np.int32))\n",
        "\n",
        "def list_of_legal_moves_for_a_piece(board, position):\n",
        "  legal_moves = board.legal_moves\n",
        "  legal_moves_encoded = []\n",
        "  for move in legal_moves:\n",
        "    move_uci = move.uci()\n",
        "    if move_uci[0] == position[0] and move_uci[1] == position[1]:\n",
        "      if board.turn is chess.BLACK:\n",
        "        move = utils.rotate(move)\n",
        "      legal_moves_encoded.append(env.encode(move))\n",
        "  return legal_moves_encoded\n",
        "\n",
        "\n",
        "def fen_to_array(fen):\n",
        "    board = chess.Board(fen)\n",
        "    board_array = np.zeros((8, 8, 58), dtype=np.uint8)\n",
        "\n",
        "    # Piece channels\n",
        "    for square, piece in enumerate(board.piece_map()):\n",
        "        if board.piece_at(square) is not None:\n",
        "            i, j = divmod(square, 8)\n",
        "            piece_index = 'rnbqkp'.index(board.piece_at(square).symbol().lower())\n",
        "            board_array[i, j, piece_index] = 1\n",
        "\n",
        "    # Additional channels\n",
        "    board_array[:, :, 6] = board.turn\n",
        "    board_array[:, :, 7] = board.has_kingside_castling_rights(chess.WHITE)\n",
        "    board_array[:, :, 8] = board.has_kingside_castling_rights(chess.BLACK)\n",
        "    board_array[:, :, 9] = board.has_queenside_castling_rights(chess.WHITE)\n",
        "    board_array[:, :, 10] = board.has_queenside_castling_rights(chess.BLACK)\n",
        "\n",
        "    # Material Count\n",
        "    white_piece_counts = len(board.pieces(chess.PAWN, chess.WHITE)) + 5 * len(board.pieces(chess.ROOK, chess.WHITE)) + 3.1 * len(board.pieces(chess.BISHOP, chess.WHITE))\n",
        "    + 3 * len(board.pieces(chess.KNIGHT, chess.WHITE)) + 9 * len(board.pieces(chess.QUEEN, chess.WHITE))\n",
        "    board_array[:, :, 11] = white_piece_counts\n",
        "    black_piece_counts = len(board.pieces(chess.PAWN, chess.BLACK)) + 5 * len(board.pieces(chess.ROOK, chess.BLACK)) + 3.1 * len(board.pieces(chess.BISHOP, chess.BLACK))\n",
        "    + 3 * len(board.pieces(chess.KNIGHT, chess.BLACK)) + 9 * len(board.pieces(chess.QUEEN, chess.BLACK))\n",
        "    board_array[:, :, 12] = black_piece_counts\n",
        "\n",
        "    # available moves for a chess piece\n",
        "    for square, piece in enumerate(board.piece_map()):\n",
        "        if board.piece_at(square) is not None:\n",
        "            i, j = divmod(square, 8)\n",
        "            legal_list = list_of_legal_moves_for_a_piece(board,chess.square_name(chess.square(i,j)))\n",
        "            for n in range(len(legal_list)):\n",
        "              board_array[i, j, 13 + n] = legal_list[n]\n",
        "\n",
        "    # Piece Square Tables\n",
        "    for piece_type in [chess.PAWN, chess.KNIGHT, chess.BISHOP, chess.QUEEN, chess.KING]:  # Add more piece types as needed\n",
        "        pst = get_piece_square_table(piece_type)\n",
        "        for square, value in zip(board.pieces(piece_type, chess.WHITE), pst.flatten()):\n",
        "            rank, file = chess.square_rank(square), chess.square_file(square)\n",
        "            board_array[rank, file, 57] = value\n",
        "\n",
        "    return board_array\n",
        "rng = np.random.default_rng()\n",
        "def create_dataset(games_list):\n",
        "    Y = []\n",
        "    X = []\n",
        "    for game in games_list:\n",
        "      gameY = [[0]*4672]*0\n",
        "      gameX = []\n",
        "      lx,ly = [],[]\n",
        "      for fen, move in game:\n",
        "            board_array = fen_to_array(fen)\n",
        "            board = chess.Board(fen)\n",
        "            obj_move = chess.Move.from_uci(move)\n",
        "            if board.turn is chess.WHITE:\n",
        "              obj_move = utils.rotate(obj_move)\n",
        "            y = [0]*4672\n",
        "            y[env.encode(obj_move)] = 1\n",
        "            gameY.append(y)\n",
        "            gameX.append(board_array)\n",
        "      move_rand = rng.integers(0,len(gameY)-5)\n",
        "      for i in range(5):\n",
        "        lx.append(gameX[move_rand+i])\n",
        "        ly.append(gameY[move_rand+i])\n",
        "      X.append(lx)\n",
        "      Y.append(ly[0])\n",
        "    X = np.array(X)\n",
        "    Y = np.array(Y)\n",
        "\n",
        "    return X, Y\n",
        "\n",
        "X, y = create_dataset(games_list)\n",
        "\n",
        "X_train, X_test, y_train, y_test = train_test_split(X, y, test_size=0.2, random_state=42)"
      ],
      "metadata": {
        "id": "DlZcoOUjjW07"
      },
      "execution_count": null,
      "outputs": []
    },
    {
      "cell_type": "markdown",
      "source": [],
      "metadata": {
        "id": "O40AvVS66lpB"
      }
    },
    {
      "cell_type": "code",
      "source": [],
      "metadata": {
        "id": "GCURVbgb6gn_"
      },
      "execution_count": null,
      "outputs": []
    },
    {
      "cell_type": "markdown",
      "source": [
        "Neural Network Creation"
      ],
      "metadata": {
        "id": "eeMeeL4yVGXf"
      }
    },
    {
      "cell_type": "code",
      "source": [
        "\n",
        "\n",
        "def create_rnn_model():\n",
        "    model = models.Sequential()\n",
        "\n",
        "\n",
        "    model.add(ConvLSTM2D(filters=256, kernel_size=(3, 3), activation='relu', input_shape=(5, 8, 8, 58)))\n",
        "\n",
        "\n",
        "    model.add(Flatten())\n",
        "\n",
        "    model.add(Dense(4672, activation='sigmoid'))\n",
        "\n",
        "    model.compile(optimizer='adam', loss='mean_squared_error')\n",
        "\n",
        "\n",
        "    model.summary()\n",
        "\n",
        "    return model\n",
        "\n",
        "model = create_rnn_model()\n"
      ],
      "metadata": {
        "id": "d6_vbf1VVK6b",
        "colab": {
          "base_uri": "https://localhost:8080/"
        },
        "outputId": "2598c122-5822-47b2-98e5-b06080a4f265"
      },
      "execution_count": null,
      "outputs": [
        {
          "output_type": "stream",
          "name": "stdout",
          "text": [
            "Model: \"sequential_11\"\n",
            "_________________________________________________________________\n",
            " Layer (type)                Output Shape              Param #   \n",
            "=================================================================\n",
            " conv_lstm2d_4 (ConvLSTM2D)  (None, 6, 6, 256)         2894848   \n",
            "                                                                 \n",
            " flatten_2 (Flatten)         (None, 9216)              0         \n",
            "                                                                 \n",
            " dense_13 (Dense)            (None, 4672)              43061824  \n",
            "                                                                 \n",
            "=================================================================\n",
            "Total params: 45956672 (175.31 MB)\n",
            "Trainable params: 45956672 (175.31 MB)\n",
            "Non-trainable params: 0 (0.00 Byte)\n",
            "_________________________________________________________________\n"
          ]
        }
      ]
    },
    {
      "cell_type": "code",
      "source": [
        "X"
      ],
      "metadata": {
        "id": "9zQIPaavxAvU"
      },
      "execution_count": null,
      "outputs": []
    },
    {
      "cell_type": "markdown",
      "source": [
        "Training"
      ],
      "metadata": {
        "id": "XC8o0FjSVLSz"
      }
    },
    {
      "cell_type": "code",
      "source": [
        "model.fit(X_train, y_train, epochs=3, validation_data=(X_test, y_test))"
      ],
      "metadata": {
        "id": "uaZiHQ9dVMdK",
        "colab": {
          "base_uri": "https://localhost:8080/"
        },
        "outputId": "415a907b-79ac-4285-c4d7-f8d92d516330"
      },
      "execution_count": null,
      "outputs": [
        {
          "output_type": "stream",
          "name": "stdout",
          "text": [
            "Epoch 1/3\n",
            "3/3 [==============================] - 9s 2s/step - loss: 0.1847 - val_loss: 2.2834e-04\n",
            "Epoch 2/3\n",
            "3/3 [==============================] - 9s 3s/step - loss: 2.1419e-04 - val_loss: 2.1404e-04\n",
            "Epoch 3/3\n",
            "3/3 [==============================] - 7s 2s/step - loss: 2.1404e-04 - val_loss: 2.1404e-04\n"
          ]
        },
        {
          "output_type": "execute_result",
          "data": {
            "text/plain": [
              "<keras.src.callbacks.History at 0x7a9613ff6380>"
            ]
          },
          "metadata": {},
          "execution_count": 36
        }
      ]
    },
    {
      "cell_type": "code",
      "source": [
        "def generate_legal_move(model, fen):\n",
        "  b = []\n",
        "  board = chess.Board(fen)\n",
        "  b.append(fen_to_array(fen))\n",
        "  c = [b]*5\n",
        "  c = np.array(c)\n",
        "  a = model.predict(c)\n",
        "  legal_moves_predicted = []\n",
        "  all_legal_moves = [env.encode(move) for move in board.legal_moves]\n",
        "  for move_predicted in range(len(a[0])):\n",
        "    if a[0][move_predicted] in all_legal_moves:\n",
        "      legal_moves_predicted.append(a[0][move_predicted])\n",
        "  best_move_legal_value = 0\n",
        "  best_move_legal_index = 0\n",
        "  for i in range(len(legal_moves_predicted)):\n",
        "    if(best_move_legal_value > legal_moves_predicted[i]):\n",
        "      best_move_legal_value = legal_moves_predicted[i]\n",
        "      best_move_legal_index = i\n",
        "\n",
        "  return all_legal_moves[best_move_legal_index]\n"
      ],
      "metadata": {
        "id": "aBcIcH5PucVt"
      },
      "execution_count": null,
      "outputs": []
    },
    {
      "cell_type": "code",
      "source": [
        "  b = []\n",
        "  board = chess.Board(\"rnbqkbnr/pppppppp/8/8/8/8/PPPPPPPP/RNBQKBNR w KQkq - 0 1\")\n",
        "  b.append(fen_to_array(\"rnbqkbnr/pppppppp/8/8/8/8/PPPPPPPP/RNBQKBNR w KQkq - 0 1\"))\n",
        "  c=[b]*5\n",
        "  for i in range(5):\n",
        "    c[i] = c[i]*1\n",
        "  c = np.array(c)\n",
        "  a = model.predict(c)\n",
        "#generate_legal_move(model, \"rnbqkbnr/pppppppp/8/8/8/8/PPPPPPPP/RNBQKBNR w KQkq - 0 1\")"
      ],
      "metadata": {
        "colab": {
          "base_uri": "https://localhost:8080/",
          "height": 652
        },
        "id": "IKQGVs9y8YhU",
        "outputId": "07807fbd-73b0-4357-c783-21dfd64ad254"
      },
      "execution_count": null,
      "outputs": [
        {
          "output_type": "error",
          "ename": "ValueError",
          "evalue": "ignored",
          "traceback": [
            "\u001b[0;31m---------------------------------------------------------------------------\u001b[0m",
            "\u001b[0;31mValueError\u001b[0m                                Traceback (most recent call last)",
            "\u001b[0;32m<ipython-input-54-89e35fff919a>\u001b[0m in \u001b[0;36m<cell line: 8>\u001b[0;34m()\u001b[0m\n\u001b[1;32m      6\u001b[0m   \u001b[0mc\u001b[0m\u001b[0;34m[\u001b[0m\u001b[0mi\u001b[0m\u001b[0;34m]\u001b[0m \u001b[0;34m=\u001b[0m \u001b[0mc\u001b[0m\u001b[0;34m[\u001b[0m\u001b[0mi\u001b[0m\u001b[0;34m]\u001b[0m\u001b[0;34m*\u001b[0m\u001b[0;36m1\u001b[0m\u001b[0;34m\u001b[0m\u001b[0;34m\u001b[0m\u001b[0m\n\u001b[1;32m      7\u001b[0m \u001b[0mc\u001b[0m \u001b[0;34m=\u001b[0m \u001b[0mnp\u001b[0m\u001b[0;34m.\u001b[0m\u001b[0marray\u001b[0m\u001b[0;34m(\u001b[0m\u001b[0mc\u001b[0m\u001b[0;34m)\u001b[0m\u001b[0;34m\u001b[0m\u001b[0;34m\u001b[0m\u001b[0m\n\u001b[0;32m----> 8\u001b[0;31m \u001b[0ma\u001b[0m \u001b[0;34m=\u001b[0m \u001b[0mmodel\u001b[0m\u001b[0;34m.\u001b[0m\u001b[0mpredict\u001b[0m\u001b[0;34m(\u001b[0m\u001b[0mc\u001b[0m\u001b[0;34m)\u001b[0m\u001b[0;34m\u001b[0m\u001b[0;34m\u001b[0m\u001b[0m\n\u001b[0m\u001b[1;32m      9\u001b[0m \u001b[0;31m#generate_legal_move(model, \"rnbqkbnr/pppppppp/8/8/8/8/PPPPPPPP/RNBQKBNR w KQkq - 0 1\")\u001b[0m\u001b[0;34m\u001b[0m\u001b[0;34m\u001b[0m\u001b[0m\n",
            "\u001b[0;32m/usr/local/lib/python3.10/dist-packages/keras/src/utils/traceback_utils.py\u001b[0m in \u001b[0;36merror_handler\u001b[0;34m(*args, **kwargs)\u001b[0m\n\u001b[1;32m     68\u001b[0m             \u001b[0;31m# To get the full stack trace, call:\u001b[0m\u001b[0;34m\u001b[0m\u001b[0;34m\u001b[0m\u001b[0m\n\u001b[1;32m     69\u001b[0m             \u001b[0;31m# `tf.debugging.disable_traceback_filtering()`\u001b[0m\u001b[0;34m\u001b[0m\u001b[0;34m\u001b[0m\u001b[0m\n\u001b[0;32m---> 70\u001b[0;31m             \u001b[0;32mraise\u001b[0m \u001b[0me\u001b[0m\u001b[0;34m.\u001b[0m\u001b[0mwith_traceback\u001b[0m\u001b[0;34m(\u001b[0m\u001b[0mfiltered_tb\u001b[0m\u001b[0;34m)\u001b[0m \u001b[0;32mfrom\u001b[0m \u001b[0;32mNone\u001b[0m\u001b[0;34m\u001b[0m\u001b[0;34m\u001b[0m\u001b[0m\n\u001b[0m\u001b[1;32m     71\u001b[0m         \u001b[0;32mfinally\u001b[0m\u001b[0;34m:\u001b[0m\u001b[0;34m\u001b[0m\u001b[0;34m\u001b[0m\u001b[0m\n\u001b[1;32m     72\u001b[0m             \u001b[0;32mdel\u001b[0m \u001b[0mfiltered_tb\u001b[0m\u001b[0;34m\u001b[0m\u001b[0;34m\u001b[0m\u001b[0m\n",
            "\u001b[0;32m/usr/local/lib/python3.10/dist-packages/keras/src/engine/training.py\u001b[0m in \u001b[0;36mtf__predict_function\u001b[0;34m(iterator)\u001b[0m\n\u001b[1;32m     13\u001b[0m                 \u001b[0;32mtry\u001b[0m\u001b[0;34m:\u001b[0m\u001b[0;34m\u001b[0m\u001b[0;34m\u001b[0m\u001b[0m\n\u001b[1;32m     14\u001b[0m                     \u001b[0mdo_return\u001b[0m \u001b[0;34m=\u001b[0m \u001b[0;32mTrue\u001b[0m\u001b[0;34m\u001b[0m\u001b[0;34m\u001b[0m\u001b[0m\n\u001b[0;32m---> 15\u001b[0;31m                     \u001b[0mretval_\u001b[0m \u001b[0;34m=\u001b[0m \u001b[0mag__\u001b[0m\u001b[0;34m.\u001b[0m\u001b[0mconverted_call\u001b[0m\u001b[0;34m(\u001b[0m\u001b[0mag__\u001b[0m\u001b[0;34m.\u001b[0m\u001b[0mld\u001b[0m\u001b[0;34m(\u001b[0m\u001b[0mstep_function\u001b[0m\u001b[0;34m)\u001b[0m\u001b[0;34m,\u001b[0m \u001b[0;34m(\u001b[0m\u001b[0mag__\u001b[0m\u001b[0;34m.\u001b[0m\u001b[0mld\u001b[0m\u001b[0;34m(\u001b[0m\u001b[0mself\u001b[0m\u001b[0;34m)\u001b[0m\u001b[0;34m,\u001b[0m \u001b[0mag__\u001b[0m\u001b[0;34m.\u001b[0m\u001b[0mld\u001b[0m\u001b[0;34m(\u001b[0m\u001b[0miterator\u001b[0m\u001b[0;34m)\u001b[0m\u001b[0;34m)\u001b[0m\u001b[0;34m,\u001b[0m \u001b[0;32mNone\u001b[0m\u001b[0;34m,\u001b[0m \u001b[0mfscope\u001b[0m\u001b[0;34m)\u001b[0m\u001b[0;34m\u001b[0m\u001b[0;34m\u001b[0m\u001b[0m\n\u001b[0m\u001b[1;32m     16\u001b[0m                 \u001b[0;32mexcept\u001b[0m\u001b[0;34m:\u001b[0m\u001b[0;34m\u001b[0m\u001b[0;34m\u001b[0m\u001b[0m\n\u001b[1;32m     17\u001b[0m                     \u001b[0mdo_return\u001b[0m \u001b[0;34m=\u001b[0m \u001b[0;32mFalse\u001b[0m\u001b[0;34m\u001b[0m\u001b[0;34m\u001b[0m\u001b[0m\n",
            "\u001b[0;31mValueError\u001b[0m: in user code:\n\n    File \"/usr/local/lib/python3.10/dist-packages/keras/src/engine/training.py\", line 2416, in predict_function  *\n        return step_function(self, iterator)\n    File \"/usr/local/lib/python3.10/dist-packages/keras/src/engine/training.py\", line 2401, in step_function  **\n        outputs = model.distribute_strategy.run(run_step, args=(data,))\n    File \"/usr/local/lib/python3.10/dist-packages/keras/src/engine/training.py\", line 2389, in run_step  **\n        outputs = model.predict_step(data)\n    File \"/usr/local/lib/python3.10/dist-packages/keras/src/engine/training.py\", line 2357, in predict_step\n        return self(x, training=False)\n    File \"/usr/local/lib/python3.10/dist-packages/keras/src/utils/traceback_utils.py\", line 70, in error_handler\n        raise e.with_traceback(filtered_tb) from None\n    File \"/usr/local/lib/python3.10/dist-packages/keras/src/engine/input_spec.py\", line 298, in assert_input_compatibility\n        raise ValueError(\n\n    ValueError: Input 0 of layer \"sequential_11\" is incompatible with the layer: expected shape=(None, 5, 8, 8, 58), found shape=(None, 1, 8, 8, 58)\n"
          ]
        }
      ]
    },
    {
      "cell_type": "code",
      "source": [
        "\n",
        "def play_game(model1, model2):\n",
        "    b = chess.Board()\n",
        "    b.reset()\n",
        "    while True:\n",
        "        b.push_uci(env.decode(generate_legal_move(model1, b.fen())).uci())\n",
        "        if b.is_game_over():\n",
        "            if b.outcome().result() == \"1-0\":\n",
        "                return 1\n",
        "            if b.outcome().result() == \"0-1\":\n",
        "                return -1\n",
        "            if b.outcome().result() == \"1/2-1/2\":\n",
        "                return 0\n",
        "        b.push_uci(env.decode(generate_legal_move(model2, b.fen())).uci())\n",
        "        if b.is_game_over():\n",
        "            if b.outcome().result() == \"1-0\":\n",
        "                return 1\n",
        "            if b.outcome().result() == \"0-1\":\n",
        "                return -1\n",
        "            if b.outcome().result() == \"1/2-1/2\":\n",
        "                return 0\n",
        "def randomly_evolve(model):\n",
        "    model_copy = model\n",
        "    for i in range(13):\n",
        "        weights = model_copy.layers[i].get_weights()\n",
        "        for weight in range(len(weights)):\n",
        "            if rng.integers(0,1) == 1:\n",
        "                weights[weight] = weights[weight] * (1 - (rng.integers(0, 101)-50)/100)\n",
        "        model_copy.layers[i].set_weights(weights)\n",
        "    return model_copy\n",
        "def procreate_from_pair(model1,model2):\n",
        "    model3 = model1\n",
        "    for i in range(13):\n",
        "        weights1 = model.layers[i].get_weights()\n",
        "        weights2 = model.layers[i].get_weights()\n",
        "        for weight in range(len(weights1)):\n",
        "            if rng.integers(0,1) == 1:\n",
        "                weights1[weight] = weights1[weight]\n",
        "            if rng.integers(0,1) == 0:\n",
        "                weights1[weight] = weights2[weight]\n",
        "        model3.layers[i].set_weights(weights1)\n",
        "    return model\n",
        "\n",
        "def topscore_ind(arr):\n",
        "  sorted_arr = np.array(arr)\n",
        "  indexes = np.argsort(sorted_arr)\n",
        "  indexes = indexes[-5:][::-1]\n",
        "  return indexes\n",
        "\n",
        "\n",
        "\n",
        "\n",
        "\n"
      ],
      "metadata": {
        "id": "qWqF-aFG_FUi"
      },
      "execution_count": null,
      "outputs": []
    },
    {
      "cell_type": "code",
      "source": [
        "models = []\n",
        "models_selected = []\n",
        "for i in range(19):\n",
        "    models.append(randomly_evolve(model))\n",
        "model_copy = model\n",
        "models.append(model_copy)\n",
        "models_score = [0]*20\n",
        "\n",
        "topscore_ind([100,1,2,3,6,8,10])"
      ],
      "metadata": {
        "colab": {
          "base_uri": "https://localhost:8080/"
        },
        "id": "SpdUd9r8Sdwa",
        "outputId": "7311fc38-b950-4292-eb8c-63699712eedd"
      },
      "execution_count": null,
      "outputs": [
        {
          "output_type": "execute_result",
          "data": {
            "text/plain": [
              "array([0, 6, 5, 4, 3])"
            ]
          },
          "metadata": {},
          "execution_count": 73
        }
      ]
    },
    {
      "cell_type": "code",
      "source": [
        "for i in range(7):\n",
        "    for j in range(20):\n",
        "        for n in range(3):\n",
        "            models_score[j] = models_score[j] + play_game(models[j], models[rng.integers(0,19)])\n",
        "    ind = topscore_ind(models_score)\n",
        "    for j in range(5):\n",
        "      models_selected.append(models[ind[j]])\n",
        "    for j in range(5):\n",
        "      models[j] = models_selected[j]\n",
        "    for j in range(5):\n",
        "      models[5 + j] = randomly_evolve(models_selected[j])\n",
        "    for j in range(4):\n",
        "      models[10 + j] = procreate_from_pair(models_selected[0],models_selected[rng.integers(1,4)])\n",
        "    for j in range(4):\n",
        "      models[14 + j] = procreate_from_pair(models_selected[1],models_selected[rng.integers(1,4)])\n",
        "    models[18] = procreate_from_pair(models_selected[3],models_selected[rng.integers(1,4)])\n",
        "    models[19] = procreate_from_pair(models_selected[4],models_selected[rng.integers(1,4)])\n",
        "\n",
        "\n"
      ],
      "metadata": {
        "colab": {
          "base_uri": "https://localhost:8080/"
        },
        "id": "93Lvq2eVZEhN",
        "outputId": "ba389e59-ac93-4edc-c94e-7f9342f1ca28"
      },
      "execution_count": null,
      "outputs": [
        {
          "output_type": "stream",
          "name": "stdout",
          "text": [
            "1/1 [==============================] - 0s 36ms/step\n",
            "1/1 [==============================] - 0s 28ms/step\n",
            "1/1 [==============================] - 0s 29ms/step\n",
            "1/1 [==============================] - 0s 29ms/step\n",
            "1/1 [==============================] - 0s 29ms/step\n",
            "1/1 [==============================] - 0s 29ms/step\n",
            "1/1 [==============================] - 0s 33ms/step\n",
            "1/1 [==============================] - 0s 30ms/step\n",
            "1/1 [==============================] - 0s 31ms/step\n",
            "1/1 [==============================] - 0s 28ms/step\n",
            "1/1 [==============================] - 0s 31ms/step\n",
            "1/1 [==============================] - 0s 30ms/step\n",
            "1/1 [==============================] - 0s 28ms/step\n",
            "1/1 [==============================] - 0s 29ms/step\n",
            "1/1 [==============================] - 0s 29ms/step\n",
            "1/1 [==============================] - 0s 31ms/step\n",
            "1/1 [==============================] - 0s 31ms/step\n",
            "1/1 [==============================] - 0s 34ms/step\n",
            "1/1 [==============================] - 0s 32ms/step\n",
            "1/1 [==============================] - 0s 28ms/step\n",
            "1/1 [==============================] - 0s 30ms/step\n",
            "1/1 [==============================] - 0s 33ms/step\n",
            "1/1 [==============================] - 0s 32ms/step\n",
            "1/1 [==============================] - 0s 26ms/step\n",
            "1/1 [==============================] - 0s 29ms/step\n",
            "1/1 [==============================] - 0s 30ms/step\n",
            "1/1 [==============================] - 0s 29ms/step\n",
            "1/1 [==============================] - 0s 28ms/step\n",
            "1/1 [==============================] - 0s 32ms/step\n",
            "1/1 [==============================] - 0s 32ms/step\n",
            "1/1 [==============================] - 0s 28ms/step\n",
            "1/1 [==============================] - 0s 35ms/step\n",
            "1/1 [==============================] - 0s 29ms/step\n",
            "1/1 [==============================] - 0s 29ms/step\n",
            "1/1 [==============================] - 0s 33ms/step\n",
            "1/1 [==============================] - 0s 31ms/step\n",
            "1/1 [==============================] - 0s 42ms/step\n",
            "1/1 [==============================] - 0s 34ms/step\n",
            "1/1 [==============================] - 0s 39ms/step\n",
            "1/1 [==============================] - 0s 44ms/step\n",
            "1/1 [==============================] - 0s 41ms/step\n",
            "1/1 [==============================] - 0s 36ms/step\n"
          ]
        }
      ]
    },
    {
      "cell_type": "markdown",
      "source": [],
      "metadata": {
        "id": "h5vj_AYTlgYy"
      }
    }
  ]
}