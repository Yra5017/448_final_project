{
  "nbformat": 4,
  "nbformat_minor": 0,
  "metadata": {
    "colab": {
      "provenance": []
    },
    "kernelspec": {
      "name": "python3",
      "display_name": "Python 3"
    },
    "language_info": {
      "name": "python"
    }
  },
  "cells": [
    {
      "cell_type": "markdown",
      "source": [
        "Imports"
      ],
      "metadata": {
        "id": "jx33tePLon_-"
      }
    },
    {
      "cell_type": "code",
      "execution_count": null,
      "metadata": {
        "id": "fo-5btR_oU92",
        "colab": {
          "base_uri": "https://localhost:8080/"
        },
        "outputId": "b6ab8a53-11a4-48b7-c2fb-451edba4975e"
      },
      "outputs": [
        {
          "output_type": "stream",
          "name": "stdout",
          "text": [
            "Requirement already satisfied: python-chess in /usr/local/lib/python3.10/dist-packages (0.31.4)\n",
            "Requirement already satisfied: gym in /usr/local/lib/python3.10/dist-packages (0.17.3)\n",
            "Requirement already satisfied: scipy in /usr/local/lib/python3.10/dist-packages (from gym) (1.11.4)\n",
            "Requirement already satisfied: numpy>=1.10.4 in /usr/local/lib/python3.10/dist-packages (from gym) (1.23.5)\n",
            "Requirement already satisfied: pyglet<=1.5.0,>=1.4.0 in /usr/local/lib/python3.10/dist-packages (from gym) (1.5.0)\n",
            "Requirement already satisfied: cloudpickle<1.7.0,>=1.2.0 in /usr/local/lib/python3.10/dist-packages (from gym) (1.6.0)\n",
            "Requirement already satisfied: future in /usr/local/lib/python3.10/dist-packages (from pyglet<=1.5.0,>=1.4.0->gym) (0.18.3)\n",
            "Requirement already satisfied: gym-chess in /usr/local/lib/python3.10/dist-packages (0.1.1)\n",
            "Requirement already satisfied: gym<0.18.0,>=0.17.2 in /usr/local/lib/python3.10/dist-packages (from gym-chess) (0.17.3)\n",
            "Requirement already satisfied: python-chess<0.32.0,>=0.31.1 in /usr/local/lib/python3.10/dist-packages (from gym-chess) (0.31.4)\n",
            "Requirement already satisfied: scipy in /usr/local/lib/python3.10/dist-packages (from gym<0.18.0,>=0.17.2->gym-chess) (1.11.4)\n",
            "Requirement already satisfied: numpy>=1.10.4 in /usr/local/lib/python3.10/dist-packages (from gym<0.18.0,>=0.17.2->gym-chess) (1.23.5)\n",
            "Requirement already satisfied: pyglet<=1.5.0,>=1.4.0 in /usr/local/lib/python3.10/dist-packages (from gym<0.18.0,>=0.17.2->gym-chess) (1.5.0)\n",
            "Requirement already satisfied: cloudpickle<1.7.0,>=1.2.0 in /usr/local/lib/python3.10/dist-packages (from gym<0.18.0,>=0.17.2->gym-chess) (1.6.0)\n",
            "Requirement already satisfied: future in /usr/local/lib/python3.10/dist-packages (from pyglet<=1.5.0,>=1.4.0->gym<0.18.0,>=0.17.2->gym-chess) (0.18.3)\n",
            "Drive already mounted at /content/drive; to attempt to forcibly remount, call drive.mount(\"/content/drive\", force_remount=True).\n"
          ]
        }
      ],
      "source": [
        "import numpy as np\n",
        "import pandas as pd\n",
        "from sklearn.linear_model import LogisticRegression\n",
        "from sklearn.datasets import load_iris\n",
        "from sklearn.model_selection import train_test_split\n",
        "from sklearn.naive_bayes import MultinomialNB\n",
        "from sklearn.svm import SVC\n",
        "import requests\n",
        "import gzip\n",
        "from io import BytesIO, StringIO\n",
        "from sklearn.ensemble import VotingClassifier\n",
        "from sklearn.metrics import accuracy_score\n",
        "from sklearn.preprocessing import LabelEncoder, StandardScaler\n",
        "from sklearn.model_selection import GridSearchCV,RandomizedSearchCV\n",
        "from sklearn.metrics import confusion_matrix,classification_report,ConfusionMatrixDisplay\n",
        "from sklearn.metrics import precision_recall_fscore_support\n",
        "import tensorflow as tf\n",
        "from tensorflow.keras import layers, models\n",
        "!pip install python-chess\n",
        "import chess\n",
        "import chess.pgn\n",
        "!pip install gym\n",
        "!pip install gym-chess\n",
        "import gym\n",
        "import os\n",
        "import gym.spaces\n",
        "import gym_chess\n",
        "from gym_chess.alphazero.move_encoding import utils, queenmoves, knightmoves, underpromotions\n",
        "from sklearn.preprocessing import OneHotEncoder\n",
        "from google.colab import drive\n",
        "drive.mount('/content/drive')\n",
        "!cp '/content/drive/MyDrive/CCRL-4040.[1712229].pgn' '/content/'"
      ]
    },
    {
      "cell_type": "markdown",
      "source": [
        "*Data* Extracting"
      ],
      "metadata": {
        "id": "U8i61c48omvM"
      }
    },
    {
      "cell_type": "code",
      "source": [
        "def extract_fen_and_moves(pgn_file_path, num_games_to_read):\n",
        "    with open(pgn_file_path) as pgn_file:\n",
        "        fen_moves_list = []\n",
        "        games_read = 0\n",
        "\n",
        "        while games_read < num_games_to_read:\n",
        "            # Read the next line from the PGN file\n",
        "            line = pgn_file.readline()\n",
        "\n",
        "            # Break the loop if the end of the file is reached\n",
        "            if not line:\n",
        "                break\n",
        "\n",
        "            # Check if the line starts a new game\n",
        "            if line.startswith('[Event'):\n",
        "                # Create a new game\n",
        "                game = chess.pgn.read_game(pgn_file)\n",
        "\n",
        "                board = chess.Board()\n",
        "                fen_moves = []\n",
        "\n",
        "                # Process moves in the current game\n",
        "                for move in game.mainline_moves():\n",
        "                    board.push(move)\n",
        "                    fen_moves.append((board.fen(), move.uci()))\n",
        "\n",
        "                fen_moves_list.append(fen_moves)\n",
        "                games_read += 1\n",
        "\n",
        "    return fen_moves_list\n",
        "\n",
        "pgn_file_path = \"/content/CCRL-4040.[1712229].pgn\"\n",
        "\n",
        "num_games_to_read = 100\n",
        "\n",
        "fen_moves_list = extract_fen_and_moves(pgn_file_path, num_games_to_read)\n",
        "\n",
        "env = gym.make('ChessAlphaZero-v0')\n",
        "env.reset()"
      ],
      "metadata": {
        "id": "5FqLivQ_onOI",
        "colab": {
          "base_uri": "https://localhost:8080/"
        },
        "outputId": "c94b2470-f7da-4835-d336-2fc1b0b41697"
      },
      "execution_count": null,
      "outputs": [
        {
          "output_type": "execute_result",
          "data": {
            "text/plain": [
              "array([[[0, 0, 0, ..., 1, 1, 0],\n",
              "        [0, 1, 0, ..., 1, 1, 0],\n",
              "        [0, 0, 1, ..., 1, 1, 0],\n",
              "        ...,\n",
              "        [0, 0, 1, ..., 1, 1, 0],\n",
              "        [0, 1, 0, ..., 1, 1, 0],\n",
              "        [0, 0, 0, ..., 1, 1, 0]],\n",
              "\n",
              "       [[1, 0, 0, ..., 1, 1, 0],\n",
              "        [1, 0, 0, ..., 1, 1, 0],\n",
              "        [1, 0, 0, ..., 1, 1, 0],\n",
              "        ...,\n",
              "        [1, 0, 0, ..., 1, 1, 0],\n",
              "        [1, 0, 0, ..., 1, 1, 0],\n",
              "        [1, 0, 0, ..., 1, 1, 0]],\n",
              "\n",
              "       [[0, 0, 0, ..., 1, 1, 0],\n",
              "        [0, 0, 0, ..., 1, 1, 0],\n",
              "        [0, 0, 0, ..., 1, 1, 0],\n",
              "        ...,\n",
              "        [0, 0, 0, ..., 1, 1, 0],\n",
              "        [0, 0, 0, ..., 1, 1, 0],\n",
              "        [0, 0, 0, ..., 1, 1, 0]],\n",
              "\n",
              "       ...,\n",
              "\n",
              "       [[0, 0, 0, ..., 1, 1, 0],\n",
              "        [0, 0, 0, ..., 1, 1, 0],\n",
              "        [0, 0, 0, ..., 1, 1, 0],\n",
              "        ...,\n",
              "        [0, 0, 0, ..., 1, 1, 0],\n",
              "        [0, 0, 0, ..., 1, 1, 0],\n",
              "        [0, 0, 0, ..., 1, 1, 0]],\n",
              "\n",
              "       [[0, 0, 0, ..., 1, 1, 0],\n",
              "        [0, 0, 0, ..., 1, 1, 0],\n",
              "        [0, 0, 0, ..., 1, 1, 0],\n",
              "        ...,\n",
              "        [0, 0, 0, ..., 1, 1, 0],\n",
              "        [0, 0, 0, ..., 1, 1, 0],\n",
              "        [0, 0, 0, ..., 1, 1, 0]],\n",
              "\n",
              "       [[0, 0, 0, ..., 1, 1, 0],\n",
              "        [0, 0, 0, ..., 1, 1, 0],\n",
              "        [0, 0, 0, ..., 1, 1, 0],\n",
              "        ...,\n",
              "        [0, 0, 0, ..., 1, 1, 0],\n",
              "        [0, 0, 0, ..., 1, 1, 0],\n",
              "        [0, 0, 0, ..., 1, 1, 0]]])"
            ]
          },
          "metadata": {},
          "execution_count": 8
        }
      ]
    },
    {
      "cell_type": "markdown",
      "source": [
        "Data Formating + Separation"
      ],
      "metadata": {
        "id": "JXnwyx5ajXQG"
      }
    },
    {
      "cell_type": "code",
      "source": [
        "\n",
        "def get_piece_square_table(piece_type):\n",
        "    piece_square_tables = {\n",
        "        chess.PAWN: np.array([\n",
        "            [0, 0, 0, 0, 0, 0, 0, 0],\n",
        "            [50, 50, 50, 50, 50, 50, 50, 50],\n",
        "            [10, 10, 20, 30, 30, 20, 10, 10],\n",
        "            [5, 5, 10, 25, 25, 10, 5, 5],\n",
        "            [0, 0, 0, 20, 20, 0, 0, 0],\n",
        "            [5, -5, -10, 0, 0, -10, -5, 5],\n",
        "            [5, 10, 10, -20, -20, 10, 10, 5],\n",
        "            [0, 0, 0, 0, 0, 0, 0, 0]\n",
        "        ]),\n",
        "        chess.KNIGHT: np.array([\n",
        "            [-50, -40, -30, -30, -30, -30, -40, -50],\n",
        "            [-40, -20, 0, 0, 0, 0, -20, -40],\n",
        "            [-30, 0, 10, 15, 15, 10, 0, -30],\n",
        "            [-30, 5, 15, 20, 20, 15, 5, -30],\n",
        "            [-30, 0, 15, 20, 20, 15, 0, -30],\n",
        "            [-30, 5, 10, 15, 15, 10, 5, -30],\n",
        "            [-40, -20, 0, 5, 5, 0, -20, -40],\n",
        "            [-50, -40, -30, -30, -30, -30, -40, -50]\n",
        "        ]),\n",
        "        chess.BISHOP: np.array([\n",
        "            [-20, -10, -10, -10, -10, -10, -10, -20],\n",
        "            [-10, 0, 0, 0, 0, 0, 0, -10],\n",
        "            [-10, 0, 5, 10, 10, 5, 0, -10],\n",
        "            [-10, 5, 5, 10, 10, 5, 5, -10],\n",
        "            [-10, 0, 10, 10, 10, 10, 0, -10],\n",
        "            [-10, 10, 10, 10, 10, 10, 10, -10],\n",
        "            [-10, 5, 0, 0, 0, 0, 5, -10],\n",
        "            [-20, -10, -10, -10, -10, -10, -10, -20]\n",
        "        ]),\n",
        "        chess.ROOK: np.array([\n",
        "            [0, 0, 0, 0, 0, 0, 0, 0],\n",
        "            [5, 10, 10, 10, 10, 10, 10, 5],\n",
        "            [-5, 0, 0, 0, 0, 0, 0, -5],\n",
        "            [-5, 0, 0, 0, 0, 0, 0, -5],\n",
        "            [-5, 0, 0, 0, 0, 0, 0, -5],\n",
        "            [-5, 0, 0, 0, 0, 0, 0, -5],\n",
        "            [-5, 0, 0, 0, 0, 0, 0, -5],\n",
        "            [0, 0, 0, 5, 5, 0, 0, 0]\n",
        "        ]),\n",
        "        chess.QUEEN: np.array([\n",
        "            [-20, -10, -10, -5, -5, -10, -10, -20],\n",
        "            [-10, 0, 0, 0, 0, 0, 0, -10],\n",
        "            [-10, 0, 5, 5, 5, 5, 0, -10],\n",
        "            [-5, 0, 5, 5, 5, 5, 0, -5],\n",
        "            [0, 0, 5, 5, 5, 5, 0, -5],\n",
        "            [-10, 5, 5, 5, 5, 5, 0, -10],\n",
        "            [-10, 0, 5, 0, 0, 0, 0, -10],\n",
        "            [-20, -10, -10, -5, -5, -10, -10, -20]\n",
        "        ]),\n",
        "        chess.KING: np.array([\n",
        "            [-30, -40, -40, -50, -50, -40, -40, -30],\n",
        "            [-30, -40, -40, -50, -50, -40, -40, -30],\n",
        "            [-30, -40, -40, -50, -50, -40, -40, -30],\n",
        "            [-30, -40, -40, -50, -50, -40, -40, -30],\n",
        "            [-20, -30, -30, -40, -40, -30, -30, -20],\n",
        "            [-10, -20, -20, -20, -20, -20, -20, -10],\n",
        "            [20, 20, 0, 0, 0, 0, 20, 20],\n",
        "            [20, 30, 10, 0, 0, 10, 30, 20]\n",
        "        ]),\n",
        "    }\n",
        "\n",
        "    return piece_square_tables.get(piece_type, np.zeros((8, 8), dtype=np.int32))\n",
        "\n",
        "def list_of_legal_moves_for_a_piece(board, position):\n",
        "  legal_moves = board.legal_moves\n",
        "  legal_moves_encoded = []\n",
        "  for move in legal_moves:\n",
        "    move_uci = move.uci()\n",
        "    if move_uci[0] == position[0] and move_uci[1] == position[1]:\n",
        "      if board.turn is chess.BLACK:\n",
        "        move = utils.rotate(move)\n",
        "      legal_moves_encoded.append(env.encode(move))\n",
        "  return legal_moves_encoded\n",
        "\n",
        "\n",
        "def fen_to_array(fen):\n",
        "    board = chess.Board(fen)\n",
        "    board_array = np.zeros((8, 8, 58), dtype=np.uint8)\n",
        "\n",
        "    # Piece channels\n",
        "    for square, piece in enumerate(board.piece_map()):\n",
        "        if board.piece_at(square) is not None:\n",
        "            i, j = divmod(square, 8)\n",
        "            piece_index = 'rnbqkp'.index(board.piece_at(square).symbol().lower())\n",
        "            board_array[i, j, piece_index] = 1\n",
        "\n",
        "    # Additional channels\n",
        "    board_array[:, :, 6] = board.turn\n",
        "    board_array[:, :, 7] = board.has_kingside_castling_rights(chess.WHITE)\n",
        "    board_array[:, :, 8] = board.has_kingside_castling_rights(chess.BLACK)\n",
        "    board_array[:, :, 9] = board.has_queenside_castling_rights(chess.WHITE)\n",
        "    board_array[:, :, 10] = board.has_queenside_castling_rights(chess.BLACK)\n",
        "\n",
        "    # Material Count\n",
        "    white_piece_counts = len(board.pieces(chess.PAWN, chess.WHITE)) + 5 * len(board.pieces(chess.ROOK, chess.WHITE)) + 3.1 * len(board.pieces(chess.BISHOP, chess.WHITE))\n",
        "    + 3 * len(board.pieces(chess.KNIGHT, chess.WHITE)) + 9 * len(board.pieces(chess.QUEEN, chess.WHITE))\n",
        "    board_array[:, :, 11] = white_piece_counts\n",
        "    black_piece_counts = len(board.pieces(chess.PAWN, chess.BLACK)) + 5 * len(board.pieces(chess.ROOK, chess.BLACK)) + 3.1 * len(board.pieces(chess.BISHOP, chess.BLACK))\n",
        "    + 3 * len(board.pieces(chess.KNIGHT, chess.BLACK)) + 9 * len(board.pieces(chess.QUEEN, chess.BLACK))\n",
        "    board_array[:, :, 12] = black_piece_counts\n",
        "\n",
        "    # available moves for a chess piece\n",
        "    for square, piece in enumerate(board.piece_map()):\n",
        "        if board.piece_at(square) is not None:\n",
        "            i, j = divmod(square, 8)\n",
        "            legal_list = list_of_legal_moves_for_a_piece(board,chess.square_name(chess.square(i,j)))\n",
        "            for n in range(len(legal_list)):\n",
        "              board_array[i, j, 13 + n] = legal_list[n]\n",
        "\n",
        "    # Piece Square Tables\n",
        "    for piece_type in [chess.PAWN, chess.KNIGHT, chess.BISHOP, chess.QUEEN, chess.KING]:  # Add more piece types as needed\n",
        "        pst = get_piece_square_table(piece_type)\n",
        "        for square, value in zip(board.pieces(piece_type, chess.WHITE), pst.flatten()):\n",
        "            rank, file = chess.square_rank(square), chess.square_file(square)\n",
        "            board_array[rank, file, 57] = value\n",
        "\n",
        "    return board_array\n",
        "\n",
        "def create_dataset(fen_moves_list):\n",
        "    Y = [[0]*4672]*0\n",
        "    X = []\n",
        "    for game_moves in fen_moves_list:\n",
        "        i = 0\n",
        "        for fen, move in game_moves:\n",
        "            board_array = fen_to_array(fen)\n",
        "            board = chess.Board(fen)\n",
        "            obj_move = chess.Move.from_uci(move)\n",
        "            if board.turn is chess.WHITE:\n",
        "              obj_move = utils.rotate(obj_move)\n",
        "            y = [0]*4672\n",
        "            y[env.encode(obj_move)] = 1\n",
        "            Y.append(y)\n",
        "            X.append(board_array)\n",
        "            i = i + 1\n",
        "\n",
        "    X = np.array(X)\n",
        "    Y = np.array(Y)\n",
        "\n",
        "    return X, Y\n",
        "\n",
        "X, y = create_dataset(fen_moves_list)\n",
        "\n",
        "X_train, X_test, y_train, y_test = train_test_split(X, y, test_size=0.2, random_state=42)"
      ],
      "metadata": {
        "id": "DlZcoOUjjW07"
      },
      "execution_count": null,
      "outputs": []
    },
    {
      "cell_type": "markdown",
      "source": [],
      "metadata": {
        "id": "O40AvVS66lpB"
      }
    },
    {
      "cell_type": "code",
      "source": [],
      "metadata": {
        "id": "GCURVbgb6gn_"
      },
      "execution_count": null,
      "outputs": []
    },
    {
      "cell_type": "markdown",
      "source": [
        "Neural Network Creation"
      ],
      "metadata": {
        "id": "eeMeeL4yVGXf"
      }
    },
    {
      "cell_type": "code",
      "source": [
        "def create_cnn_model():\n",
        "    model = models.Sequential()\n",
        "    model.add(layers.Conv2D(64, (3, 3), activation='relu', input_shape=(8, 8, 58)))\n",
        "    model.add(layers.MaxPooling2D((2, 2)))\n",
        "    model.add(layers.Conv2D(128, (3, 3), activation='relu'))\n",
        "    model.add(layers.Flatten())\n",
        "    model.add(layers.Dense(128, activation='relu'))\n",
        "    model.add(layers.Dense(128, activation='relu'))\n",
        "    model.add(layers.Dense(256, activation='relu'))\n",
        "    model.add(layers.Dense(512, activation='relu'))\n",
        "    model.add(layers.Dense(640, activation='relu'))\n",
        "    model.add(layers.Dense(1280, activation='relu'))\n",
        "    model.add(layers.Dense(2400, activation='relu'))\n",
        "    model.add(layers.Dense(3500, activation='relu'))\n",
        "    model.add(layers.Dense(4672, activation='relu'))\n",
        "    model.add(layers.Dense(4672, activation='linear'))\n",
        "\n",
        "    model.compile(optimizer='adam', loss='mean_squared_error')\n",
        "\n",
        "    return model\n",
        "\n",
        "model = create_cnn_model()\n",
        "model.summary()"
      ],
      "metadata": {
        "id": "d6_vbf1VVK6b",
        "colab": {
          "base_uri": "https://localhost:8080/"
        },
        "outputId": "910edb01-bd91-4a00-e882-34b5c9459ab6"
      },
      "execution_count": null,
      "outputs": [
        {
          "output_type": "stream",
          "name": "stdout",
          "text": [
            "Model: \"sequential\"\n",
            "_________________________________________________________________\n",
            " Layer (type)                Output Shape              Param #   \n",
            "=================================================================\n",
            " conv2d (Conv2D)             (None, 6, 6, 64)          33472     \n",
            "                                                                 \n",
            " max_pooling2d (MaxPooling2  (None, 3, 3, 64)          0         \n",
            " D)                                                              \n",
            "                                                                 \n",
            " conv2d_1 (Conv2D)           (None, 1, 1, 128)         73856     \n",
            "                                                                 \n",
            " flatten (Flatten)           (None, 128)               0         \n",
            "                                                                 \n",
            " dense (Dense)               (None, 128)               16512     \n",
            "                                                                 \n",
            " dense_1 (Dense)             (None, 128)               16512     \n",
            "                                                                 \n",
            " dense_2 (Dense)             (None, 256)               33024     \n",
            "                                                                 \n",
            " dense_3 (Dense)             (None, 512)               131584    \n",
            "                                                                 \n",
            " dense_4 (Dense)             (None, 640)               328320    \n",
            "                                                                 \n",
            " dense_5 (Dense)             (None, 1280)              820480    \n",
            "                                                                 \n",
            " dense_6 (Dense)             (None, 2400)              3074400   \n",
            "                                                                 \n",
            " dense_7 (Dense)             (None, 3500)              8403500   \n",
            "                                                                 \n",
            " dense_8 (Dense)             (None, 4672)              16356672  \n",
            "                                                                 \n",
            " dense_9 (Dense)             (None, 4672)              21832256  \n",
            "                                                                 \n",
            "=================================================================\n",
            "Total params: 51120588 (195.01 MB)\n",
            "Trainable params: 51120588 (195.01 MB)\n",
            "Non-trainable params: 0 (0.00 Byte)\n",
            "_________________________________________________________________\n"
          ]
        }
      ]
    },
    {
      "cell_type": "markdown",
      "source": [
        "Training"
      ],
      "metadata": {
        "id": "XC8o0FjSVLSz"
      }
    },
    {
      "cell_type": "code",
      "source": [
        "model.fit(X_train, y_train, epochs=3, validation_data=(X_test, y_test))"
      ],
      "metadata": {
        "id": "uaZiHQ9dVMdK",
        "colab": {
          "base_uri": "https://localhost:8080/"
        },
        "outputId": "47b6645c-b92d-4b4e-a454-460546fba3b4"
      },
      "execution_count": null,
      "outputs": [
        {
          "output_type": "stream",
          "name": "stdout",
          "text": [
            "Epoch 1/3\n",
            "349/349 [==============================] - 198s 568ms/step - loss: 2.1350e-04 - val_loss: 2.1310e-04\n",
            "Epoch 2/3\n",
            "349/349 [==============================] - 243s 696ms/step - loss: 2.1291e-04 - val_loss: 2.1298e-04\n",
            "Epoch 3/3\n",
            "349/349 [==============================] - 249s 715ms/step - loss: 2.1255e-04 - val_loss: 2.1221e-04\n"
          ]
        },
        {
          "output_type": "execute_result",
          "data": {
            "text/plain": [
              "<keras.src.callbacks.History at 0x7a35ecd70220>"
            ]
          },
          "metadata": {},
          "execution_count": 14
        }
      ]
    },
    {
      "cell_type": "code",
      "source": [
        "def generate_legal_move(model, fen):\n",
        "  b = []\n",
        "  board = chess.Board(fen)\n",
        "  b.append(fen_to_array(fen))\n",
        "  b = np.array(b)\n",
        "  a = model.predict(b)\n",
        "  legal_moves_predicted = []\n",
        "  all_legal_moves = [env.encode(move) for move in board.legal_moves]\n",
        "  for move_predicted in range(len(a[0])):\n",
        "    if a[0][move_predicted] in all_legal_moves:\n",
        "      legal_moves_predicted.append(a[0][move_predicted])\n",
        "  best_move_legal_value = 0\n",
        "  best_move_legal_index = 0\n",
        "  for i in range(len(legal_moves_predicted)):\n",
        "    if(best_move_legal_value > legal_moves_predicted[i]):\n",
        "      best_move_legal_value = legal_moves_predicted[i]\n",
        "      best_move_legal_index = i\n",
        "\n",
        "  return all_legal_moves[best_move_legal_index]\n",
        "\n",
        "def accuracy_check(model,X, y):\n",
        "  score = 0\n",
        "  number = 0\n",
        "  predicted_moves = model.predict(X)\n",
        "  for move in range(len(predicted_moves)):\n",
        "    predicted_move = predicted_moves[move][0]\n",
        "    expected_move = y[move]\n",
        "    if round(predicted_move) is expected_move:\n",
        "      score+=1\n",
        "    number+=1\n",
        "  return score/number\n"
      ],
      "metadata": {
        "id": "aBcIcH5PucVt"
      },
      "execution_count": null,
      "outputs": []
    },
    {
      "cell_type": "code",
      "source": [
        "rng = np.random.default_rng()\n",
        "def play_game(model1, model2):\n",
        "    b = chess.Board()\n",
        "    b.reset()\n",
        "    while True:\n",
        "        b.push_uci(env.decode(generate_legal_move(model1, b.fen())).uci())\n",
        "        if b.is_game_over():\n",
        "            if b.outcome().result() == \"1-0\":\n",
        "                return 1\n",
        "            if b.outcome().result() == \"0-1\":\n",
        "                return -1\n",
        "            if b.outcome().result() == \"1/2-1/2\":\n",
        "                return 0\n",
        "        b.push_uci(env.decode(generate_legal_move(model2, b.fen())).uci())\n",
        "        if b.is_game_over():\n",
        "            if b.outcome().result() == \"1-0\":\n",
        "                return 1\n",
        "            if b.outcome().result() == \"0-1\":\n",
        "                return -1\n",
        "            if b.outcome().result() == \"1/2-1/2\":\n",
        "                return 0\n",
        "def randomly_evolve(model):\n",
        "    model_copy = model\n",
        "    for i in range(13):\n",
        "        weights = model_copy.layers[i].get_weights()\n",
        "        for weight in range(len(weights)):\n",
        "            if rng.integers(0,1) == 1:\n",
        "                weights[weight] = weights[weight] * (1 - (rng.integers(0, 101)-50)/100)\n",
        "        model_copy.layers[i].set_weights(weights)\n",
        "    return model_copy\n",
        "def procreate_from_pair(model1,model2):\n",
        "    model3 = model1\n",
        "    for i in range(13):\n",
        "        weights1 = model.layers[i].get_weights()\n",
        "        weights2 = model.layers[i].get_weights()\n",
        "        for weight in range(len(weights1)):\n",
        "            if rng.integers(0,1) == 1:\n",
        "                weights1[weight] = weights1[weight]\n",
        "            if rng.integers(0,1) == 0:\n",
        "                weights1[weight] = weights2[weight]\n",
        "        model3.layers[i].set_weights(weights1)\n",
        "    return model\n",
        "\n",
        "def topscore_ind(arr):\n",
        "  sorted_arr = np.array(arr)\n",
        "  indexes = np.argsort(sorted_arr)\n",
        "  indexes = indexes[-5:][::-1]\n",
        "  return indexes\n",
        "\n",
        "\n",
        "\n",
        "\n",
        "\n"
      ],
      "metadata": {
        "id": "qWqF-aFG_FUi"
      },
      "execution_count": null,
      "outputs": []
    },
    {
      "cell_type": "code",
      "source": [
        "models = []\n",
        "models_selected = []\n",
        "for i in range(19):\n",
        "    models.append(randomly_evolve(model))\n",
        "model_copy = model\n",
        "models.append(model_copy)\n",
        "models_score = [0]*20\n",
        "\n",
        "topscore_ind([100,1,2,3,6,8,10])"
      ],
      "metadata": {
        "colab": {
          "base_uri": "https://localhost:8080/"
        },
        "id": "SpdUd9r8Sdwa",
        "outputId": "7311fc38-b950-4292-eb8c-63699712eedd"
      },
      "execution_count": null,
      "outputs": [
        {
          "output_type": "execute_result",
          "data": {
            "text/plain": [
              "array([0, 6, 5, 4, 3])"
            ]
          },
          "metadata": {},
          "execution_count": 73
        }
      ]
    },
    {
      "cell_type": "code",
      "source": [
        "for i in range(7):\n",
        "    for j in range(20):\n",
        "        for n in range(3):\n",
        "            models_score[j] = models_score[j] + play_game(models[j], models[rng.integers(0,19)])\n",
        "    ind = topscore_ind(models_score)\n",
        "    for j in range(5):\n",
        "      models_selected.append(models[ind[j]])\n",
        "    for j in range(5):\n",
        "      models[j] = models_selected[j]\n",
        "    for j in range(5):\n",
        "      models[5 + j] = randomly_evolve(models_selected[j])\n",
        "    for j in range(4):\n",
        "      models[10 + j] = procreate_from_pair(models_selected[0],models_selected[rng.integers(1,4)])\n",
        "    for j in range(4):\n",
        "      models[14 + j] = procreate_from_pair(models_selected[1],models_selected[rng.integers(1,4)])\n",
        "    models[18] = procreate_from_pair(models_selected[3],models_selected[rng.integers(1,4)])\n",
        "    models[19] = procreate_from_pair(models_selected[4],models_selected[rng.integers(1,4)])\n",
        "\n",
        "\n"
      ],
      "metadata": {
        "id": "93Lvq2eVZEhN"
      },
      "execution_count": null,
      "outputs": []
    },
    {
      "cell_type": "code",
      "source": [
        "trained_model = models[0]\n"
      ],
      "metadata": {
        "colab": {
          "base_uri": "https://localhost:8080/",
          "height": 364
        },
        "id": "HtEbHwEl07hN",
        "outputId": "6ce729c8-6331-43f5-d4f5-fb85c1bd2014"
      },
      "execution_count": null,
      "outputs": [
        {
          "output_type": "stream",
          "name": "stdout",
          "text": [
            "1/1 [==============================] - 0s 42ms/step\n"
          ]
        },
        {
          "output_type": "error",
          "ename": "AttributeError",
          "evalue": "ignored",
          "traceback": [
            "\u001b[0;31m---------------------------------------------------------------------------\u001b[0m",
            "\u001b[0;31mAttributeError\u001b[0m                            Traceback (most recent call last)",
            "\u001b[0;32m<ipython-input-94-652ceae790e2>\u001b[0m in \u001b[0;36m<cell line: 3>\u001b[0;34m()\u001b[0m\n\u001b[1;32m      1\u001b[0m \u001b[0mtrained_model\u001b[0m \u001b[0;34m=\u001b[0m \u001b[0mmodels\u001b[0m\u001b[0;34m[\u001b[0m\u001b[0;36m0\u001b[0m\u001b[0;34m]\u001b[0m\u001b[0;34m\u001b[0m\u001b[0;34m\u001b[0m\u001b[0m\n\u001b[1;32m      2\u001b[0m \u001b[0mb\u001b[0m \u001b[0;34m=\u001b[0m \u001b[0mchess\u001b[0m\u001b[0;34m.\u001b[0m\u001b[0mBoard\u001b[0m\u001b[0;34m(\u001b[0m\u001b[0;34m\"rnb2b2/pp1p2k1/1qp4n/4P2p/2B2p2/8/PPP2PPP/2KRR3 w - - 1 19\"\u001b[0m\u001b[0;34m)\u001b[0m\u001b[0;34m\u001b[0m\u001b[0;34m\u001b[0m\u001b[0m\n\u001b[0;32m----> 3\u001b[0;31m \u001b[0menv\u001b[0m\u001b[0;34m.\u001b[0m\u001b[0mdecode\u001b[0m\u001b[0;34m(\u001b[0m\u001b[0mgenerate_legal_move\u001b[0m\u001b[0;34m(\u001b[0m\u001b[0mtrained_model\u001b[0m\u001b[0;34m,\u001b[0m \u001b[0mb\u001b[0m\u001b[0;34m.\u001b[0m\u001b[0mfen\u001b[0m\u001b[0;34m(\u001b[0m\u001b[0;34m)\u001b[0m\u001b[0;34m)\u001b[0m\u001b[0;34m)\u001b[0m\u001b[0;34m.\u001b[0m\u001b[0muci\u001b[0m\u001b[0;34m(\u001b[0m\u001b[0;34m)\u001b[0m\u001b[0;34m\u001b[0m\u001b[0;34m\u001b[0m\u001b[0m\n\u001b[0m",
            "\u001b[0;32m/usr/local/lib/python3.10/dist-packages/gym_chess/alphazero/move_encoding/__init__.py\u001b[0m in \u001b[0;36mdecode\u001b[0;34m(self, action)\u001b[0m\n\u001b[1;32m    121\u001b[0m \u001b[0;34m\u001b[0m\u001b[0m\n\u001b[1;32m    122\u001b[0m             \u001b[0mpiece\u001b[0m \u001b[0;34m=\u001b[0m \u001b[0mself\u001b[0m\u001b[0;34m.\u001b[0m\u001b[0munwrapped\u001b[0m\u001b[0;34m.\u001b[0m\u001b[0m_board\u001b[0m\u001b[0;34m.\u001b[0m\u001b[0mpiece_at\u001b[0m\u001b[0;34m(\u001b[0m\u001b[0mmove\u001b[0m\u001b[0;34m.\u001b[0m\u001b[0mfrom_square\u001b[0m\u001b[0;34m)\u001b[0m\u001b[0;34m\u001b[0m\u001b[0;34m\u001b[0m\u001b[0m\n\u001b[0;32m--> 123\u001b[0;31m             \u001b[0mis_pawn\u001b[0m \u001b[0;34m=\u001b[0m \u001b[0mpiece\u001b[0m\u001b[0;34m.\u001b[0m\u001b[0mpiece_type\u001b[0m \u001b[0;34m==\u001b[0m \u001b[0mchess\u001b[0m\u001b[0;34m.\u001b[0m\u001b[0mPAWN\u001b[0m\u001b[0;34m\u001b[0m\u001b[0;34m\u001b[0m\u001b[0m\n\u001b[0m\u001b[1;32m    124\u001b[0m \u001b[0;34m\u001b[0m\u001b[0m\n\u001b[1;32m    125\u001b[0m             \u001b[0;32mif\u001b[0m \u001b[0mis_pawn\u001b[0m \u001b[0;32mand\u001b[0m \u001b[0mis_promoting_move\u001b[0m\u001b[0;34m:\u001b[0m\u001b[0;34m\u001b[0m\u001b[0;34m\u001b[0m\u001b[0m\n",
            "\u001b[0;31mAttributeError\u001b[0m: 'NoneType' object has no attribute 'piece_type'"
          ]
        }
      ]
    },
    {
      "cell_type": "markdown",
      "source": [],
      "metadata": {
        "id": "h5vj_AYTlgYy"
      }
    }
  ]
}